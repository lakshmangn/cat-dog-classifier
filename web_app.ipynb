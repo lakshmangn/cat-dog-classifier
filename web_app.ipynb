{
  "nbformat": 4,
  "nbformat_minor": 0,
  "metadata": {
    "colab": {
      "name": "web app.ipynb",
      "private_outputs": true,
      "provenance": [],
      "collapsed_sections": [],
      "include_colab_link": true
    },
    "kernelspec": {
      "name": "python3",
      "display_name": "Python 3"
    }
  },
  "cells": [
    {
      "cell_type": "markdown",
      "metadata": {
        "id": "view-in-github",
        "colab_type": "text"
      },
      "source": [
        "<a href=\"https://colab.research.google.com/github/lakshmangn/cat-dog-classifier/blob/main/web_app.ipynb\" target=\"_parent\"><img src=\"https://colab.research.google.com/assets/colab-badge.svg\" alt=\"Open In Colab\"/></a>"
      ]
    },
    {
      "cell_type": "code",
      "metadata": {
        "id": "6xIZ_C26j-PT"
      },
      "source": [
        "!pip install streamlit\n",
        "!pip install pyngrok==4.1.1\n",
        "!sudo pip install h5py\n",
        "from pyngrok import ngrok"
      ],
      "execution_count": null,
      "outputs": []
    },
    {
      "cell_type": "code",
      "metadata": {
        "id": "LD9ZgvaLqX1t"
      },
      "source": [
        "%%writefile app.py\n",
        "\n",
        "import streamlit as st\n",
        "from tensorflow.keras.models import load_model\n",
        "import numpy as np\n",
        "from PIL import Image\n",
        "from tensorflow.keras.preprocessing import image as image_process\n",
        "import json\n",
        "from keras.models import model_from_json\n",
        "\n",
        "\n",
        "\n",
        "with open('model.json') as f:\n",
        "    json_file = json.load(f)\n",
        "json_file = open('model.json', 'r')\n",
        "loaded_model_json = json_file.read()\n",
        "json_file.close()\n",
        "loaded_model = model_from_json(loaded_model_json)\n",
        "# load weights into new model\n",
        "loaded_model.load_weights(\"model.h5\")\n",
        "\n",
        "# evaluate loaded model on test data\n",
        "loaded_model.compile(loss='binary_crossentropy', optimizer='rmsprop', metrics=['accuracy'])\n",
        "\n",
        "\n",
        "\n",
        "st.title(\"Image Classifier - 1000 Categories!\")\n",
        "upload = st.sidebar.file_uploader(label='Upload the Image', type=\"jpg\")\n",
        "if upload is not None:\n",
        "\n",
        "    img = Image.open(upload)\n",
        "    st.image(img,caption='Uploaded Image',width=300)\n",
        "    \n",
        "    if st.sidebar.button('PREDICT'):\n",
        "        st.sidebar.write(\"Result:\")\n",
        "\n",
        "\n",
        "        test_image = img.resize((224, 224))\n",
        "        test_image = image_process.img_to_array(test_image)\n",
        "        test_image=test_image/255\n",
        "        test_image = np.expand_dims(test_image, axis = 0)\n",
        "        result = loaded_model.predict(test_image)\n",
        "        \n",
        "        # print the classification\n",
        "        if result[0]<0:\n",
        "            st.sidebar.title(\"The image classified is of a Cat\")\n",
        "        else:\n",
        "            st.sidebar.title(\"The image classified is of a Dog\")"
      ],
      "execution_count": null,
      "outputs": []
    },
    {
      "cell_type": "code",
      "metadata": {
        "id": "gGBelfjLkFBK"
      },
      "source": [
        "!streamlit run app.py &>/dev/null&\n",
        "public_url = ngrok.connect(port='8501')\n",
        "public_url"
      ],
      "execution_count": null,
      "outputs": []
    }
  ]
}